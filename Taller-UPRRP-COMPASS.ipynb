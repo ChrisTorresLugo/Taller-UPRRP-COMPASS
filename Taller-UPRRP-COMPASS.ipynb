{
 "cells": [
  {
   "cell_type": "code",
   "execution_count": null,
   "id": "b3e0de50",
   "metadata": {},
   "outputs": [],
   "source": [
    "import json\n",
    "import tweepy\n",
    "import requests\n",
    "import botometer\n",
    "import pandas as pd\n",
    "import networkx as nx\n",
    "import matplotlib.pyplot as plt\n",
    "from networkx.algorithms import bipartite"
   ]
  },
  {
   "cell_type": "markdown",
   "id": "0940efe9",
   "metadata": {},
   "source": [
    "# FAQ\n",
    "\n",
    "## How can I find an account's ID if I have their username?\n",
    "You can use https://tweeterid.com to convert between user ids and usernames.\n",
    "\n",
    "## If I have a user or tweet id, how can I know when it was created?\n",
    "Users and tweet ids encode their creation timestamp. This tool allows you to get the datetime object from the id: https://oduwsdl.github.io/tweetedat/\n",
    "\n",
    "## Is there an easy way to identify websites that publish content that is high or low credibility?\n",
    "Scrape iffy+ to get a list of websites and their credibility ratings according to fact checkers: https://iffy.news/iffy-plus/\n",
    "\n",
    "## Which Twitter search operators are available?\n",
    "This page contains a list of the available operators: https://github.com/igorbrigadir/twitter-advanced-search"
   ]
  },
  {
   "cell_type": "markdown",
   "id": "4dc61f51",
   "metadata": {},
   "source": [
    "# Authentication"
   ]
  },
  {
   "cell_type": "code",
   "execution_count": null,
   "id": "36a7219c",
   "metadata": {},
   "outputs": [],
   "source": [
    "twitter_app_auth = {\n",
    "    'consumer_key': '',\n",
    "    'consumer_secret': '',\n",
    "    'access_token': '',\n",
    "    'access_token_secret': '',\n",
    "}\n",
    "\n",
    "rapidapi_key_botometer = \"\"\n",
    "rapidapi_key_hoaxy = \"\""
   ]
  },
  {
   "cell_type": "code",
   "execution_count": null,
   "id": "4fb1e5aa",
   "metadata": {},
   "outputs": [],
   "source": [
    "auth = tweepy.OAuthHandler(twitter_app_auth['consumer_key'], twitter_app_auth['consumer_secret'])\n",
    "auth.set_access_token(twitter_app_auth['access_token'], twitter_app_auth['access_token_secret'])\n",
    "api = tweepy.API(auth, wait_on_rate_limit=True)"
   ]
  },
  {
   "cell_type": "markdown",
   "id": "022b313b",
   "metadata": {},
   "source": [
    "# Hoaxy"
   ]
  },
  {
   "cell_type": "code",
   "execution_count": null,
   "id": "ff001813",
   "metadata": {},
   "outputs": [],
   "source": [
    "import requests\n",
    "\n",
    "url = \"https://api-hoaxy.p.rapidapi.com/top-articles\"\n",
    "\n",
    "querystring = {\"most_recent\":\"true\",\"exclude_tags\":\"[\\\"satire\\\"]\"}\n",
    "\n",
    "headers = {\n",
    "    \"X-RapidAPI-Host\": \"api-hoaxy.p.rapidapi.com\",\n",
    "    \"X-RapidAPI-Key\": rapidapi_key_hoaxy\n",
    "}\n",
    "\n",
    "response = requests.request(\"GET\", url, headers=headers, params=querystring)"
   ]
  },
  {
   "cell_type": "code",
   "execution_count": null,
   "id": "73cd9a62",
   "metadata": {
    "scrolled": false
   },
   "outputs": [],
   "source": [
    "for article in json.loads(response.text)['articles']:\n",
    "    if article['site_type'] == 'claim': # fact_checking or claim\n",
    "        print(article)"
   ]
  },
  {
   "cell_type": "markdown",
   "id": "e7b83328",
   "metadata": {},
   "source": [
    "# Twitter Search"
   ]
  },
  {
   "cell_type": "code",
   "execution_count": null,
   "id": "aea7259e",
   "metadata": {},
   "outputs": [],
   "source": [
    "results = api.search('zerohedge filter:links', count=100)"
   ]
  },
  {
   "cell_type": "code",
   "execution_count": null,
   "id": "409910bb",
   "metadata": {
    "scrolled": false
   },
   "outputs": [],
   "source": [
    "results[0]._json"
   ]
  },
  {
   "cell_type": "markdown",
   "id": "a3ec5430",
   "metadata": {},
   "source": [
    "# Botometer"
   ]
  },
  {
   "cell_type": "code",
   "execution_count": null,
   "id": "d4e1aaec",
   "metadata": {},
   "outputs": [],
   "source": [
    "uids = set([result._json['user']['id'] for result in results])\n",
    "\n",
    "bom = botometer.Botometer(wait_on_ratelimit=True,\n",
    "                          rapidapi_key=rapidapi_key_botometer,\n",
    "                          **twitter_app_auth)\n",
    "\n",
    "result = bom.check_account('@christorreslugo')\n",
    "print(result)"
   ]
  },
  {
   "cell_type": "code",
   "execution_count": null,
   "id": "a4d05d29",
   "metadata": {},
   "outputs": [],
   "source": [
    "botscores = dict()\n",
    "for screen_name, result in bom.check_accounts_in(list(uids)):\n",
    "    botscores[screen_name] = result['cap']['universal']"
   ]
  },
  {
   "cell_type": "markdown",
   "id": "6de8921a",
   "metadata": {},
   "source": [
    "# Bipartite network"
   ]
  },
  {
   "cell_type": "code",
   "execution_count": null,
   "id": "9c42af8d",
   "metadata": {},
   "outputs": [],
   "source": [
    "uids = []\n",
    "urls = []\n",
    "uid_url = []\n",
    "for result in results:\n",
    "    if result._json['entities']['urls']:\n",
    "        uids.append(result._json['user']['id'])\n",
    "        urls.append(result._json['entities']['urls'][0]['expanded_url'])\n",
    "        uid_url.append((uids[-1], urls[-1]))"
   ]
  },
  {
   "cell_type": "code",
   "execution_count": null,
   "id": "00ee26cc",
   "metadata": {},
   "outputs": [],
   "source": [
    "B = nx.Graph()\n",
    "\n",
    "B.add_nodes_from(uids, bipartite=0)\n",
    "B.add_nodes_from(urls, bipartite=1)\n",
    "\n",
    "B.add_edges_from(uid_url)"
   ]
  },
  {
   "cell_type": "code",
   "execution_count": null,
   "id": "bebbe4d7",
   "metadata": {},
   "outputs": [],
   "source": [
    "G = bipartite.weighted_projected_graph(B, uids)\n",
    "\n",
    "print(f\"Number of nodes: {G.number_of_nodes()}\")\n",
    "print(f\"Number of edges: {G.number_of_edges()}\")"
   ]
  },
  {
   "cell_type": "code",
   "execution_count": null,
   "id": "fd2fd3fc",
   "metadata": {},
   "outputs": [],
   "source": [
    "pd.Series([edge[2]['weight'] for edge in G.edges(data=True)]).value_counts().sort_index()"
   ]
  },
  {
   "cell_type": "code",
   "execution_count": null,
   "id": "0514a412",
   "metadata": {},
   "outputs": [],
   "source": [
    "nx.set_node_attributes(G, botscores, \"botscores\")"
   ]
  },
  {
   "cell_type": "code",
   "execution_count": null,
   "id": "088db5d6",
   "metadata": {},
   "outputs": [],
   "source": [
    "nodes_to_keep = []\n",
    "for cc in nx.connected_components(G):\n",
    "    if len(cc) > 5:\n",
    "        nodes_to_keep += cc"
   ]
  },
  {
   "cell_type": "code",
   "execution_count": null,
   "id": "96b3b769",
   "metadata": {},
   "outputs": [],
   "source": [
    "H = G.subgraph(nodes_to_keep)"
   ]
  },
  {
   "cell_type": "code",
   "execution_count": null,
   "id": "9a0f425d",
   "metadata": {},
   "outputs": [],
   "source": [
    "nx.write_gml(G, 'filtered_projected_bipartite.gml')"
   ]
  },
  {
   "cell_type": "markdown",
   "id": "351d3a3b",
   "metadata": {},
   "source": [
    "# Friends or followers networks"
   ]
  },
  {
   "cell_type": "code",
   "execution_count": null,
   "id": "b4adc446",
   "metadata": {},
   "outputs": [],
   "source": [
    "I = nx.DiGraph()\n",
    "for username in ['christorreslugo', 'osome_iu', 'ccomuprrp']:\n",
    "    for friend in tweepy.Cursor(api.friends, screen_name='christorreslugo').items():\n",
    "        I.add_edge(username,friend._json['screen_name'])"
   ]
  },
  {
   "cell_type": "code",
   "execution_count": null,
   "id": "eff8a214",
   "metadata": {},
   "outputs": [],
   "source": []
  }
 ],
 "metadata": {
  "kernelspec": {
   "display_name": "Python 3 (ipykernel)",
   "language": "python",
   "name": "python3"
  },
  "language_info": {
   "codemirror_mode": {
    "name": "ipython",
    "version": 3
   },
   "file_extension": ".py",
   "mimetype": "text/x-python",
   "name": "python",
   "nbconvert_exporter": "python",
   "pygments_lexer": "ipython3",
   "version": "3.10.4"
  }
 },
 "nbformat": 4,
 "nbformat_minor": 5
}
